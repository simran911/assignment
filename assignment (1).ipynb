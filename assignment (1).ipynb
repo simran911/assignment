{
 "cells": [
  {
   "cell_type": "markdown",
   "id": "160fac98-809b-4042-9ace-4b3ca5df9769",
   "metadata": {},
   "source": [
    "Q1. What are the three measures of central tendency?"
   ]
  },
  {
   "cell_type": "markdown",
   "id": "39164a98-61c7-4a64-b1ae-8443faa71af4",
   "metadata": {},
   "source": [
    "The three measures of central tendency are:\n",
    "\n",
    "1. **Mean**: The mean, also known as the average, is calculated by summing all the data values and dividing the sum by the number of data points. It represents the typical or central value of a dataset and is commonly used to describe the central tendency when the data is approximately normally distributed.\n",
    "\n",
    "2. **Median**: The median is the middle value of a dataset when the data is arranged in ascending or descending order. If the dataset has an odd number of values, the median is the middle one. If the dataset has an even number of values, the median is the average of the two middle values. The median is a robust measure of central tendency and is less sensitive to outliers compared to the mean.\n",
    "\n",
    "3. **Mode**: The mode is the value that appears most frequently in a dataset. A dataset can have one mode (unimodal), two modes (bimodal), or more (multimodal). If all values occur with the same frequency, the dataset is said to be amodal, and there is no mode. The mode is especially useful for categorical data or discrete data with distinct peaks, where it helps identify the most common category or value.\n",
    "\n",
    "These three measures of central tendency provide different perspectives on the typical value of a dataset and are commonly used in statistics and data analysis to summarize and understand data distributions."
   ]
  },
  {
   "cell_type": "markdown",
   "id": "1e62e1ab-5c73-492c-bea0-59fe1bb4b67f",
   "metadata": {},
   "source": [
    "Q2. What is the difference between the mean, median, and mode? How are they used to measure the\n",
    "central tendency of a dataset?"
   ]
  },
  {
   "cell_type": "markdown",
   "id": "e25b9547-02ce-40cb-8b8e-3e9cce6b5530",
   "metadata": {},
   "source": [
    "The mean, median, and mode are three different measures of central tendency used to describe the typical or central value of a dataset. They provide different ways of understanding the center of a distribution and are used depending on the nature of the data and the specific characteristics of the dataset.\n",
    "\n",
    "**Mean**:\n",
    "- Definition: The mean is calculated by summing all the data values and dividing the sum by the number of data points.\n",
    "- Sensitivity to Outliers: The mean is sensitive to outliers because it takes into account the actual numerical values of all data points.\n",
    "- Use: The mean is commonly used when dealing with numerical data that follows a roughly symmetric distribution. It represents the average value of the dataset.\n",
    "\n",
    "**Median**:\n",
    "- Definition: The median is the middle value of a dataset when the data is arranged in ascending or descending order.\n",
    "- Sensitivity to Outliers: The median is less sensitive to outliers compared to the mean because it only considers the position of the data values, not their actual numerical values.\n",
    "- Use: The median is particularly useful when dealing with skewed distributions or datasets containing extreme values. It provides a robust measure of central tendency that is not heavily influenced by outliers.\n",
    "\n",
    "**Mode**:\n",
    "- Definition: The mode is the value that appears most frequently in a dataset.\n",
    "- Sensitivity to Outliers: The mode is not influenced by outliers because it only considers the frequency of data values.\n",
    "- Use: The mode is often used for categorical data or discrete data with distinct peaks. It helps identify the most common category or value in the dataset.\n",
    "\n",
    "**How they are used to measure central tendency**:\n",
    "- Depending on the distribution and characteristics of the data, one of these measures can be chosen to represent the central tendency of the dataset.\n",
    "- If the data is approximately normally distributed without significant outliers, the mean can be a suitable choice as it takes into account all data points and represents the arithmetic average.\n",
    "- When the data is skewed or contains outliers, the median provides a better representation of the center of the data as it is less affected by extreme values.\n",
    "- The mode is used when identifying the most frequent category or value in categorical or discrete datasets.\n",
    "\n",
    "In summary, the mean, median, and mode are complementary measures that help us understand the central tendency of a dataset from different angles. The choice of which measure to use depends on the nature of the data and the specific goals of the analysis."
   ]
  },
  {
   "cell_type": "markdown",
   "id": "6447cdde-0ca3-4aac-949f-5615b98cc454",
   "metadata": {},
   "source": [
    "Q3. Measure the three measures of central tendency for the given height data:\n",
    "[178,177,176,177,178.2,178,175,179,180,175,178.9,176.2,177,172.5,178,176.5]"
   ]
  },
  {
   "cell_type": "code",
   "execution_count": 2,
   "id": "5bcb5a00-a2bc-46a8-ba91-98650ae89597",
   "metadata": {},
   "outputs": [],
   "source": [
    "import numpy as np"
   ]
  },
  {
   "cell_type": "code",
   "execution_count": 3,
   "id": "e57fe46e-1e70-499d-8fdd-08cd9380a9cc",
   "metadata": {},
   "outputs": [],
   "source": [
    "height=[178,177,176,177,178.2,178,175,179,180,175,178.9,176.2,177,172.5,178,176.5]"
   ]
  },
  {
   "cell_type": "code",
   "execution_count": 4,
   "id": "e6501828-4a62-4e9c-b9a1-63fae86823a8",
   "metadata": {},
   "outputs": [
    {
     "data": {
      "text/plain": [
       "177.01875"
      ]
     },
     "execution_count": 4,
     "metadata": {},
     "output_type": "execute_result"
    }
   ],
   "source": [
    "np.mean(height)"
   ]
  },
  {
   "cell_type": "code",
   "execution_count": 5,
   "id": "9bf5dff2-d839-42d8-9a07-77c456ae433d",
   "metadata": {},
   "outputs": [
    {
     "data": {
      "text/plain": [
       "177.0"
      ]
     },
     "execution_count": 5,
     "metadata": {},
     "output_type": "execute_result"
    }
   ],
   "source": [
    "np.median(height)"
   ]
  },
  {
   "cell_type": "code",
   "execution_count": 7,
   "id": "e2d73eee-c3dd-48c5-b69d-674766fcbe70",
   "metadata": {},
   "outputs": [],
   "source": [
    "from scipy import stats"
   ]
  },
  {
   "cell_type": "code",
   "execution_count": 8,
   "id": "d9ff11d3-46ac-4e1b-bd59-e66be3ac4c7c",
   "metadata": {},
   "outputs": [
    {
     "name": "stderr",
     "output_type": "stream",
     "text": [
      "/tmp/ipykernel_6254/1690947930.py:1: FutureWarning: Unlike other reduction functions (e.g. `skew`, `kurtosis`), the default behavior of `mode` typically preserves the axis it acts along. In SciPy 1.11.0, this behavior will change: the default value of `keepdims` will become False, the `axis` over which the statistic is taken will be eliminated, and the value None will no longer be accepted. Set `keepdims` to True or False to avoid this warning.\n",
      "  stats.mode(height)\n"
     ]
    },
    {
     "data": {
      "text/plain": [
       "ModeResult(mode=array([177.]), count=array([3]))"
      ]
     },
     "execution_count": 8,
     "metadata": {},
     "output_type": "execute_result"
    }
   ],
   "source": [
    "stats.mode(height)"
   ]
  },
  {
   "cell_type": "markdown",
   "id": "bc60dd40-8b15-49f3-be44-f2b0c8b76175",
   "metadata": {},
   "source": [
    "Q4. Find the standard deviation for the given data:\n",
    "[178,177,176,177,178.2,178,175,179,180,175,178.9,176.2,177,172.5,178,176.5]"
   ]
  },
  {
   "cell_type": "code",
   "execution_count": 9,
   "id": "1cbb71ee-f09b-4b3a-9ebb-b51e7bcdc6b2",
   "metadata": {},
   "outputs": [
    {
     "data": {
      "text/plain": [
       "1.7885814036548633"
      ]
     },
     "execution_count": 9,
     "metadata": {},
     "output_type": "execute_result"
    }
   ],
   "source": [
    "np.std(height)"
   ]
  },
  {
   "cell_type": "markdown",
   "id": "aed36ec8-c0e9-4427-9cd9-8a5321557f1e",
   "metadata": {},
   "source": [
    "Q5. How are measures of dispersion such as range, variance, and standard deviation used to describe\n",
    "the spread of a dataset? Provide an example."
   ]
  },
  {
   "cell_type": "markdown",
   "id": "0bb288c5-f98f-403a-847d-2d427d501097",
   "metadata": {},
   "source": [
    "Measures of dispersion, such as range, variance, and standard deviation, are used to describe the spread or variability of a dataset. They provide information about how much the data points deviate from the central tendency (mean, median, or mode) and give us insights into the distribution's scatter or dispersion.\n",
    "\n",
    "**1. Range**:\n",
    "The range is the simplest measure of dispersion and is calculated as the difference between the maximum and minimum values in the dataset. It gives a basic idea of the spread but can be influenced by outliers.\n",
    "\n",
    "**Example**: Consider the following dataset of exam scores:\n",
    "[78, 85, 92, 68, 95, 89, 75, 80, 84]\n",
    "\n",
    "Range = Maximum value - Minimum value\n",
    "Range = 95 - 68 = 27\n",
    "\n",
    "The range in this example is 27, indicating that the scores vary by 27 points from the lowest to the highest.\n",
    "\n",
    "**2. Variance**:\n",
    "The variance is a more sophisticated measure of dispersion that takes into account how far each data point is from the mean. It calculates the average of the squared differences between each data point and the mean, providing a measure of the average distance of data points from the central tendency.\n",
    "\n",
    "**Example**: Continuing with the same exam scores dataset, let's calculate the variance:\n",
    "\n",
    "Step 1: Calculate the mean\n",
    "Mean = (78 + 85 + 92 + 68 + 95 + 89 + 75 + 80 + 84) / 9 = 83.89 (approximately)\n",
    "\n",
    "Step 2: Calculate the squared differences from the mean for each data point:\n",
    "(78 - 83.89)^2 ≈ 35.09\n",
    "(85 - 83.89)^2 ≈ 1.22\n",
    "(92 - 83.89)^2 ≈ 66.69\n",
    "...\n",
    "(84 - 83.89)^2 ≈ 0.01\n",
    "\n",
    "Step 3: Calculate the variance:\n",
    "Variance = (35.09 + 1.22 + 66.69 + ... + 0.01) / 9 ≈ 49.83\n",
    "\n",
    "The variance in this example is approximately 49.83.\n",
    "\n",
    "**3. Standard Deviation**:\n",
    "The standard deviation is the square root of the variance. It provides a more interpretable measure of dispersion, as it is in the same units as the original data.\n",
    "\n",
    "**Example**: Using the same exam scores dataset, let's calculate the standard deviation:\n",
    "\n",
    "Standard Deviation = √Variance\n",
    "Standard Deviation ≈ √49.83 ≈ 7.06 (approximately)\n",
    "\n",
    "The standard deviation in this example is approximately 7.06, indicating the average deviation of the scores from the mean is approximately 7.06 points.\n",
    "\n",
    "In summary, measures of dispersion like range, variance, and standard deviation complement measures of central tendency and help us understand how the data points are spread around the center. They provide valuable insights into the variability and distribution of the dataset."
   ]
  },
  {
   "cell_type": "markdown",
   "id": "0dca6fe1-0d0c-4159-bf9f-1236baaf845a",
   "metadata": {},
   "source": [
    "Q6. What is a Venn diagram?"
   ]
  },
  {
   "cell_type": "markdown",
   "id": "6d2a3d75-f322-40e7-b18a-fd994beea0ce",
   "metadata": {},
   "source": [
    "A Venn diagram is a graphical representation used to show the relationships between different sets or groups. It was introduced by the English logician and philosopher John Venn in the late 19th century. Venn diagrams consist of overlapping circles or ellipses, where each circle represents a set or category, and the overlapping regions represent the intersection between those sets.\n",
    "\n",
    "The primary purpose of a Venn diagram is to visually demonstrate the relationships between sets, including:\n",
    "\n",
    "1. **Union**: The area encompassed by all the circles represents the union of all the sets involved. It includes all elements present in any of the sets.\n",
    "\n",
    "2. **Intersection**: The overlapping regions between the circles represent the intersection of two or more sets. It shows the elements that are common to all the sets.\n",
    "\n",
    "3. **Disjoint Sets**: The non-overlapping parts of the circles represent elements that are unique to each individual set.\n",
    "\n",
    "Venn diagrams are particularly useful when dealing with set theory, logic, and probability problems. They can visually illustrate the relationships between different groups, making it easier to understand the concept of set operations.\n",
    "\n",
    "Each circle in a Venn diagram can have a label that identifies the set it represents. If there are more than three sets involved, Venn diagrams can become complex, and other visualizations like Euler diagrams or set notation may be more suitable.\n",
    "\n",
    "Here's a simple example of a Venn diagram with two sets, A and B:\n",
    "\n",
    "```\n",
    "      A\n",
    "   ○----○\n",
    "  /      \\\n",
    " /        \\\n",
    "○          ○\n",
    " \\        /\n",
    "  \\      /\n",
    "   ○----○\n",
    "      B\n",
    "```\n",
    "\n",
    "In this example, the circles represent sets A and B, and the overlapping region shows their intersection. The parts outside the circles represent the elements that are exclusive to each set (i.e., A - B and B - A), and the entire area encompassed by both circles represents the union of A and B."
   ]
  },
  {
   "cell_type": "markdown",
   "id": "feb060a4-7b81-4a08-8741-3602b2db7aa7",
   "metadata": {},
   "source": [
    "Q7. For the two given sets A = (2,3,4,5,6,7) & B = (0,2,6,8,10). Find:\n",
    "(i) A intersection B\n",
    "(ii) A ⋃ B"
   ]
  },
  {
   "cell_type": "markdown",
   "id": "a72d0a83-61d3-4141-bb4d-9ec987e669ce",
   "metadata": {},
   "source": [
    "1. {2,6}\n",
    "2. {0,2,3,4,5,6,7,8,10}"
   ]
  },
  {
   "cell_type": "markdown",
   "id": "ab605f72-c296-4797-8758-0ee475df3657",
   "metadata": {},
   "source": [
    "Q8. What do you understand about skewness in data?"
   ]
  },
  {
   "cell_type": "markdown",
   "id": "88f21d2f-3578-458f-a561-6b7feee798f0",
   "metadata": {},
   "source": [
    "Skewness is a statistical measure that describes the asymmetry of a probability distribution or a dataset. In data analysis, it helps us understand the shape and behavior of the data distribution. Skewness indicates w\n",
    "hether the data is concentrated more on one side of the distribution or whether it is evenly distributed around the mean.\n",
    "\n",
    "There are three types of skewness:\n",
    "\n",
    "1. **Positive Skewness (Right Skewness)**:\n",
    "   - In a positively skewed distribution, the tail on the right-hand side (higher values) is longer or more spread out than the left tail (lower values).\n",
    "   - The mean is typically greater than the median, and the mode is usually the smallest value in the dataset.\n",
    "   - This type of skewness often occurs when there are a few extremely large values that pull the distribution to the right.\n",
    "\n",
    "2. **Negative Skewness (Left Skewness)**:\n",
    "   - In a negatively skewed distribution, the tail on the left-hand side (lower values) is longer or more spread out than the right tail (higher values).\n",
    "   - The mean is typically less than the median, and the mode is usually the largest value in the dataset.\n",
    "   - Negative skewness can occur when there are a few extremely small values that drag the distribution to the left.\n",
    "\n",
    "3. **Symmetrical (Zero Skewness)**:\n",
    "   - A symmetrical distribution has no skewness. The data is evenly distributed around the mean, and the tails on both sides are equal in length.\n",
    "   - The mean, median, and mode are all equal in a symmetrical distribution.\n",
    "\n",
    "Skewness is an important concept in data analysis because it helps identify potential issues with data and can guide the selection of appropriate statistical methods. For instance:\n",
    "\n",
    "- If the data is heavily skewed, using the mean as a measure of central tendency may not be suitable, and the median might be a better choice.\n",
    "- Skewness can also affect the choice of statistical tests and models used for analysis, as many statistical methods assume data to be approximately normally distributed.\n",
    "\n",
    "To quantify skewness, various statistical measures can be used, such as the skewness coefficient or the moment coefficient of skewness. However, a visual inspection of a histogram or a plot can often provide an intuitive understanding of the skewness of the data distribution."
   ]
  },
  {
   "cell_type": "markdown",
   "id": "f37b86ca-9250-4397-a430-6d4acd832345",
   "metadata": {},
   "source": [
    "Q9. If a data is right skewed then what will be the position of median with respect to mean?"
   ]
  },
  {
   "cell_type": "markdown",
   "id": "7811a92f-3c8f-4dd8-ad8a-3f6f64cbeeed",
   "metadata": {},
   "source": [
    "If a dataset is right-skewed, the position of the median will be to the left of the mean. In a right-skewed distribution, the tail on the right-hand side (higher values) is longer, which means there are relatively few extreme high values that can pull the mean towards the right."
   ]
  },
  {
   "cell_type": "markdown",
   "id": "679799d3-1995-4180-92c3-039ddaaffc46",
   "metadata": {},
   "source": [
    "Q10. Explain the difference between covariance and correlation. How are these measures used in\n",
    "statistical analysis?"
   ]
  },
  {
   "cell_type": "markdown",
   "id": "319a9306-07e9-44b1-9439-45d7d6173a70",
   "metadata": {},
   "source": [
    "Covariance and correlation are both measures used to describe the relationship between two variables in statistical analysis. They provide insights into how two variables change together and whether their movements are positively or negatively related. However, there are key differences between the two measures:\n",
    "\n",
    "**Covariance**:\n",
    "- Covariance measures the degree to which two variables change together. It quantifies the direction of the relationship (positive or negative) and the magnitude of their joint variability.\n",
    "- A positive covariance indicates that when one variable increases, the other tends to increase as well. Conversely, a negative covariance indicates that when one variable increases, the other tends to decrease.\n",
    "- However, covariance alone does not provide a standardized measure of the strength of the relationship. Its value is affected by the scale of the variables, making it difficult to compare across different datasets.\n",
    "\n",
    "The formula to calculate the covariance between two variables X and Y, given a sample of size N, is as follows:\n",
    "\\[ \\text{Cov}(X, Y) = \\frac{1}{N} \\sum_{i=1}^{N} (X_i - \\bar{X}) \\cdot (Y_i - \\bar{Y}) \\]\n",
    "\n",
    "**Correlation**:\n",
    "- Correlation is a standardized measure of the relationship between two variables. It scales the covariance by the product of the standard deviations of the two variables, making it easier to interpret and compare across different datasets.\n",
    "- The correlation coefficient ranges from -1 to +1. A correlation of +1 indicates a perfect positive relationship, -1 indicates a perfect negative relationship, and 0 indicates no linear relationship between the variables.\n",
    "- Correlation provides valuable information about the strength and direction of the relationship between two variables, irrespective of the scale of the variables.\n",
    "\n",
    "The formula to calculate the correlation coefficient (Pearson correlation) between two variables X and Y, given a sample of size N, is as follows:\n",
    "\\[ \\text{Corr}(X, Y) = \\frac{\\text{Cov}(X, Y)}{\\text{SD}(X) \\cdot \\text{SD}(Y)} \\]\n",
    "\n",
    "**How are these measures used in statistical analysis?**:\n",
    "- Covariance and correlation are widely used in various fields of statistics, data analysis, and finance to understand relationships between variables and assess dependencies between them.\n",
    "- They are used to determine if there is a positive or negative association between two variables and to what extent they move together.\n",
    "- In finance, covariance and correlation are used in portfolio optimization to understand how different assets' returns are related and how diversification can reduce risk.\n",
    "- In data analysis, correlation is often used to check for linear relationships between variables and to identify potential predictors in regression models.\n",
    "- Additionally, these measures are crucial in understanding the structure and patterns in multivariate datasets.\n",
    "\n",
    "In summary, covariance and correlation both provide information about the relationship between two variables, but correlation is more commonly used in practice due to its standardized interpretation and ease of comparison across different datasets."
   ]
  },
  {
   "cell_type": "markdown",
   "id": "d08eee7c-1303-41a9-9c9a-52642c57ac26",
   "metadata": {},
   "source": [
    "Q11. What is the formula for calculating the sample mean? Provide an example calculation for a\n",
    "dataset."
   ]
  },
  {
   "cell_type": "markdown",
   "id": "cbaa2e23-0742-46dc-9b8e-8e0989c68145",
   "metadata": {},
   "source": [
    "sample mean=xi/n"
   ]
  },
  {
   "cell_type": "code",
   "execution_count": 11,
   "id": "4ff4de08-f55b-4a9c-b9fe-dcb55b805fc4",
   "metadata": {},
   "outputs": [
    {
     "name": "stdout",
     "output_type": "stream",
     "text": [
      "Sample mean: 82.88888888888889\n"
     ]
    }
   ],
   "source": [
    "import numpy as np\n",
    "\n",
    "# Given dataset\n",
    "dataset = [78, 85, 92, 68, 95, 89, 75, 80, 84]\n",
    "\n",
    "# Calculate the sample mean using NumPy\n",
    "sample_mean = np.mean(dataset)\n",
    "\n",
    "print(\"Sample mean:\", sample_mean)\n"
   ]
  },
  {
   "cell_type": "markdown",
   "id": "57d329db-68d4-4a8f-9dab-84e0513af3eb",
   "metadata": {},
   "source": [
    "Q12. For a normal distribution data what is the relationship between its measure of central tendency?"
   ]
  },
  {
   "cell_type": "markdown",
   "id": "9cc0b5d8-b48e-42ac-b8e8-d7bbac9466f8",
   "metadata": {},
   "source": [
    "Mean=Median=mode"
   ]
  },
  {
   "cell_type": "markdown",
   "id": "26f08bb7-564d-4482-a8a7-52179f93aa28",
   "metadata": {},
   "source": [
    "Q13. How is covariance different from correlation?"
   ]
  },
  {
   "cell_type": "markdown",
   "id": "eb996f16-7b5c-4786-8e2e-065a646f664b",
   "metadata": {},
   "source": [
    "covariance measures the joint variability and direction of the relationship between two variables, while correlation provides a standardized measure of this relationship, making it easier to interpret and compare across different datasets. Correlation also gives more insights into the strength and direction of the linear relationship\n",
    "between variables, making it a more commonly used measure in statistical analysis."
   ]
  },
  {
   "cell_type": "markdown",
   "id": "e06924ef-f1a8-437f-999e-f78cde825d68",
   "metadata": {},
   "source": [
    "Q14. How do outliers affect measures of central tendency and dispersion? Provide an example."
   ]
  }
 ],
 "metadata": {
  "kernelspec": {
   "display_name": "Python 3 (ipykernel)",
   "language": "python",
   "name": "python3"
  },
  "language_info": {
   "codemirror_mode": {
    "name": "ipython",
    "version": 3
   },
   "file_extension": ".py",
   "mimetype": "text/x-python",
   "name": "python",
   "nbconvert_exporter": "python",
   "pygments_lexer": "ipython3",
   "version": "3.10.8"
  }
 },
 "nbformat": 4,
 "nbformat_minor": 5
}
